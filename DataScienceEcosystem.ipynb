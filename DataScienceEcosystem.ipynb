{
 "cells": [
  {
   "cell_type": "markdown",
   "id": "7ba882bc-7c2c-42ed-889e-619eaeeb7290",
   "metadata": {},
   "source": [
    " # Data Science Tools and Ecosystem"
   ]
  },
  {
   "cell_type": "markdown",
   "id": "80ac9adc-0cd8-4c0b-bccd-731a16379e08",
   "metadata": {},
   "source": [
    "## Santiago Perez"
   ]
  },
  {
   "cell_type": "markdown",
   "id": "a155cbfd-21a8-4f8d-b38b-dc18d2a3bdc9",
   "metadata": {},
   "source": [
    "## In this notebook you'll find data science tools and ecosystems summarized"
   ]
  },
  {
   "cell_type": "markdown",
   "id": "8d2395ac-f966-42f6-ada5-e9d1d31b7980",
   "metadata": {},
   "source": [
    "**Objectives**\n",
    "+ List popular languages for ds\n",
    "+ Name common libraries for ds\n",
    "+ Create a table with ds tools\n",
    "+ Make examples of artgmetic expressions"
   ]
  },
  {
   "cell_type": "markdown",
   "id": "d8195ff4-5c96-4fce-a497-bf6b2ad0dd75",
   "metadata": {},
   "source": [
    "### Popular languages that data scientists tend to use most\n",
    "\n",
    "+ Python\n",
    "+   R\n",
    " +  Julia\n"
   ]
  },
  {
   "cell_type": "markdown",
   "id": "a49ed3d1-95e6-4a8e-8b58-474c08cadef7",
   "metadata": {},
   "source": [
    "### The common libraries used by data scientists are:\n",
    "1. Pandas\n",
    "2. Numpy\n",
    "3. Tensorflow\n",
    "4. Pytorch"
   ]
  },
  {
   "cell_type": "markdown",
   "id": "d55fb411-4928-4aa1-8722-7ee0be5a78bb",
   "metadata": {},
   "source": [
    "|Data Science Tools|\n",
    "|------------------|\n",
    "|    Jupyter|\n",
    "|Tableau|\n",
    "|Excel|"
   ]
  },
  {
   "cell_type": "markdown",
   "id": "aa5074a8-4b7c-4f6b-9efd-815d79831309",
   "metadata": {},
   "source": [
    "### Below are some examples of evaluating arithmetic expressions in Python."
   ]
  },
  {
   "cell_type": "code",
   "execution_count": 29,
   "id": "fa73ab06-b297-4681-82b8-2817173a2aaa",
   "metadata": {},
   "outputs": [
    {
     "data": {
      "text/plain": [
       "17"
      ]
     },
     "execution_count": 29,
     "metadata": {},
     "output_type": "execute_result"
    }
   ],
   "source": [
    " #This arithmetic expression shows a simple multiplication that adds integers \n",
    "(3*4)+5 "
   ]
  },
  {
   "cell_type": "code",
   "execution_count": 41,
   "id": "273dc2a6-cc5e-4188-8f92-40adbd65275a",
   "metadata": {},
   "outputs": [
    {
     "data": {
      "text/plain": [
       "3.3333333333333335"
      ]
     },
     "execution_count": 41,
     "metadata": {},
     "output_type": "execute_result"
    }
   ],
   "source": [
    " #This will convert 200 minutes to hours by diving by 60\n",
    "200/60"
   ]
  },
  {
   "cell_type": "code",
   "execution_count": null,
   "id": "fcc96468-d5a5-48ad-8878-b8d8fee433b5",
   "metadata": {},
   "outputs": [],
   "source": []
  }
 ],
 "metadata": {
  "kernelspec": {
   "display_name": "Python 3 (ipykernel)",
   "language": "python",
   "name": "python3"
  },
  "language_info": {
   "codemirror_mode": {
    "name": "ipython",
    "version": 3
   },
   "file_extension": ".py",
   "mimetype": "text/x-python",
   "name": "python",
   "nbconvert_exporter": "python",
   "pygments_lexer": "ipython3",
   "version": "3.12.7"
  }
 },
 "nbformat": 4,
 "nbformat_minor": 5
}
